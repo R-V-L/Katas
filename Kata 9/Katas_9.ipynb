{
 "cells": [
  {
   "cell_type": "markdown",
   "metadata": {},
   "source": [
    "# Trabajar con argumentos en funciones"
   ]
  },
  {
   "cell_type": "code",
   "execution_count": 37,
   "metadata": {},
   "outputs": [
    {
     "name": "stdout",
     "output_type": "stream",
     "text": [
      "El tanque 1 uso: 4\n",
      "El tanque 2 uso: 5\n",
      "El tanque 3 uso: 3\n",
      "El promedio fue: 4.0\n"
     ]
    }
   ],
   "source": [
    "# Función para leer 3 tanques de combustible y muestre el promedio\n",
    "def promedio_combustible(tanque1, tanque2, tanque3):\n",
    "    promedio = (tanque1 + tanque2 + tanque3) / 3\n",
    "    return f\"El tanque 1 uso: {tanque1}\\nEl tanque 2 uso: {tanque2}\\nEl tanque 3 uso: {tanque3}\\nEl promedio fue: {promedio}\"\n",
    "\n",
    "tanque1 = int(input(\"Escriba la cantidad de combustible del primer tanque: \"))\n",
    "tanque2 = int(input(\"Escriba la cantidad de combustible del segundo tanque: \"))\n",
    "tanque3 = int(input(\"Escriba la cantidad de combustible del tercer tanque: \"))\n",
    "\n",
    "# Llamamos a la función que genera el reporte\n",
    "print(promedio_combustible(tanque1, tanque2, tanque3))\n"
   ]
  },
  {
   "cell_type": "markdown",
   "metadata": {},
   "source": [
    "## Trabajo con argumentos de palabra clave"
   ]
  },
  {
   "cell_type": "code",
   "execution_count": 36,
   "metadata": {},
   "outputs": [
    {
     "name": "stdout",
     "output_type": "stream",
     "text": [
      "La hora de prelanzamiento es: 2022-02-12 21:47:14.247466\n",
      "Van 20 minutos de vuelo\n",
      "Con destino a: Luna\n",
      "------------------------------ \n",
      "Informe de combustible\n",
      "tanque_externo: 62\n",
      "tanque_interno: 43\n"
     ]
    }
   ],
   "source": [
    "# Función con un informe preciso de la misión. Considera hora de prelanzamiento,\n",
    "# tiempo de vuelo, destino, tanque externo y tanque interno\n",
    "from datetime import datetime\n",
    "\n",
    "def informe_mision(hora_prelanzamiento, tiempo_vuelo, destino, tanque_externo, tanque_interno):\n",
    "    print(f\"La hora de prelanzamiento es: {hora_prelanzamiento}\")\n",
    "    print(f\"Van {tiempo_vuelo} horas de vuelo\")\n",
    "    print(f\"Con destino a: {destino}\")\n",
    "    print(\"-\" * 30, \"\\nInforme de combustible\")\n",
    "    print(f\"Tanque externo: {tanque_externo}\")\n",
    "    print(f\"Tanque interno: {tanque_interno}\")\n",
    "\n",
    "informe_mision(datetime.now(), 5, \"Luna\", 6, 5)\n",
    "\n",
    "# Escribe tu nueva función de reporte \n",
    "def informe_mision_2(hora_prelanzamiento, destino, *minutes, **fuel_reservoirs):\n",
    "    print(f\"La hora de prelanzamiento es: {hora_prelanzamiento}\")\n",
    "    print(f\"Van {sum(*minutes)} minutos de vuelo\")\n",
    "    print(f\"Con destino a: {destino}\")\n",
    "    print(\"-\" * 30, \"\\nInforme de combustible\")\n",
    "    for tanque, nivel in fuel_reservoirs.items():\n",
    "        print(f\"{tanque}: {nivel}\")\n",
    "\n",
    "informe_mision_2(datetime.now(), \"Luna\", [5, 5, 6, 4], tanque_externo=62, tanque_interno=43)"
   ]
  }
 ],
 "metadata": {
  "interpreter": {
   "hash": "31f2aee4e71d21fbe5cf8b01ff0e069b9275f58929596ceb00d14d90e3e16cd6"
  },
  "kernelspec": {
   "display_name": "Python 3.8.9 64-bit",
   "language": "python",
   "name": "python3"
  },
  "language_info": {
   "codemirror_mode": {
    "name": "ipython",
    "version": 3
   },
   "file_extension": ".py",
   "mimetype": "text/x-python",
   "name": "python",
   "nbconvert_exporter": "python",
   "pygments_lexer": "ipython3",
   "version": "3.8.9"
  },
  "orig_nbformat": 4
 },
 "nbformat": 4,
 "nbformat_minor": 2
}
