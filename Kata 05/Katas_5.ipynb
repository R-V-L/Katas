{
 "cells": [
  {
   "cell_type": "markdown",
   "metadata": {},
   "source": [
    "# Utilizar operadores aritméticos"
   ]
  },
  {
   "cell_type": "code",
   "execution_count": 10,
   "metadata": {},
   "outputs": [
    {
     "name": "stdout",
     "output_type": "stream",
     "text": [
      "Distancia en kilometros: 628949330\n",
      "Distancia en millas: 390577534\n"
     ]
    }
   ],
   "source": [
    "# Crear variables para almacenar las dos distancias\n",
    "# ¡Asegúrate de quitar las comas!\n",
    "tierra = 149597870\n",
    "jupiter = 778547200\n",
    "\n",
    "# Calcular la distancia entre planetas\n",
    "distancia = abs(tierra - jupiter)\n",
    "print(f\"Distancia en kilometros: {distancia}\")\n",
    "print(f\"Distancia en millas: {round(distancia * 0.621)}\")"
   ]
  },
  {
   "cell_type": "markdown",
   "metadata": {},
   "source": [
    "## Convierte cadenas en números y usa valores absolutos"
   ]
  },
  {
   "cell_type": "code",
   "execution_count": 14,
   "metadata": {},
   "outputs": [
    {
     "name": "stdout",
     "output_type": "stream",
     "text": [
      "Distancia en kilometros: 628949330\n",
      "Distancia en millas: 390577534\n"
     ]
    }
   ],
   "source": [
    "# Leer valores y convertir a numero entero\n",
    "planeta_1 = int(input(\"Escriba la distancia al sol del planeta 1: \"))\n",
    "planeta_2 = int(input(\"Escriba la distancia al sol del planeta 2: \"))\n",
    "\n",
    "# Realizar el cálculo y determinar el valor absoluto\n",
    "distancia = abs(planeta_1 - planeta_2)\n",
    "print(f\"Distancia en kilometros: {distancia}\")\n",
    "\n",
    "# Convertir de KM a Millas\n",
    "print(f\"Distancia en millas: {round(distancia * 0.621)}\")"
   ]
  }
 ],
 "metadata": {
  "interpreter": {
   "hash": "b89b5cfaba6639976dc87ff2fec6d58faec662063367e2c229c520fe71072417"
  },
  "kernelspec": {
   "display_name": "Python 3.10.1 64-bit",
   "language": "python",
   "name": "python3"
  },
  "language_info": {
   "codemirror_mode": {
    "name": "ipython",
    "version": 3
   },
   "file_extension": ".py",
   "mimetype": "text/x-python",
   "name": "python",
   "nbconvert_exporter": "python",
   "pygments_lexer": "ipython3",
   "version": "3.10.1"
  },
  "orig_nbformat": 4
 },
 "nbformat": 4,
 "nbformat_minor": 2
}
