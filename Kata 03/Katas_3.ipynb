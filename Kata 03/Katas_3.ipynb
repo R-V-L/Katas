{
 "cells": [
  {
   "cell_type": "markdown",
   "metadata": {},
   "source": [
    "# Declaraciones if, else y elif\n",
    "\n",
    "> Añadir el código necesario para crear una variable que guarde la velocidad del asteroide.\n",
    "\n",
    "> Escribe una expresión de prueba para calcular si necesita una advertencia.\n",
    "\n",
    "> Agregue las instrucciones que se ejecutarán si la expresión de prueba es true o false."
   ]
  },
  {
   "cell_type": "code",
   "execution_count": 1,
   "metadata": {},
   "outputs": [
    {
     "name": "stdout",
     "output_type": "stream",
     "text": [
      "!Advertencia! Se aproxima un asteroide rapidamente a la tierra\n"
     ]
    }
   ],
   "source": [
    "velocidadAsteroide = 49\n",
    "\n",
    "if (velocidadAsteroide > 25):\n",
    "    print(\"!Advertencia! Se aproxima un asteroide rapidamente a la tierra\")"
   ]
  },
  {
   "cell_type": "markdown",
   "metadata": {},
   "source": [
    "> Agrega el código para crear una variable para un asteroide que viaja a 19 km/s\n",
    "\n",
    "> Escribe varias expresiones de prueba para determinar si puedes ver el rayo de luz desde la tierra\n",
    "\n",
    "> Agrega las instrucciones que se ejecutarán si las expresiones de prueba son True o False"
   ]
  },
  {
   "cell_type": "code",
   "execution_count": 2,
   "metadata": {},
   "outputs": [
    {
     "name": "stdout",
     "output_type": "stream",
     "text": [
      "Se aproxima un asteroide... lamentablemente no sera visible desde la tierra.\n"
     ]
    }
   ],
   "source": [
    "velocidadAsteroide = 19\n",
    "\n",
    "if (velocidadAsteroide >= 20):\n",
    "    print(\"Se aproxima un asteroide a la tierra. ¡Mira al cielo!\")\n",
    "else:\n",
    "    print(\"Se aproxima un asteroide... lamentablemente no sera visible desde la tierra.\")"
   ]
  },
  {
   "cell_type": "markdown",
   "metadata": {},
   "source": [
    "> Agrega el código para crear nuevas variables para la velocidad y el tamaño del asteroide\n",
    "\n",
    "> Para probar el código, prueba con varias velocidades y tamaños\n",
    "\n",
    "> Escribe varias expresiones de prueba o combinaciones de expresiones de prueba para determinar qué mensaje se debe enviar a Tierra."
   ]
  },
  {
   "cell_type": "code",
   "execution_count": 3,
   "metadata": {},
   "outputs": [
    {
     "name": "stdout",
     "output_type": "stream",
     "text": [
      "¡Advertencia! Se acerca un asteroide muy peligroso a la tierra\n"
     ]
    }
   ],
   "source": [
    "velocidadAsteroide = 26\n",
    "tamanoAsteroide = 50\n",
    "\n",
    "if (tamanoAsteroide > 25 and tamanoAsteroide < 1000) and (velocidadAsteroide > 25):\n",
    "    print(\"¡Advertencia! Se acerca un asteroide muy peligroso a la tierra\")\n",
    "elif (velocidadAsteroide >= 20):\n",
    "    print(\"Se acerca un asteroide a la tierra. ¡Mira al cielo!\")\n",
    "else:\n",
    "    print(\"Se aproxima un asteroide... lamentablemente no sera visible desde la tierra\")"
   ]
  }
 ],
 "metadata": {
  "interpreter": {
   "hash": "31f2aee4e71d21fbe5cf8b01ff0e069b9275f58929596ceb00d14d90e3e16cd6"
  },
  "kernelspec": {
   "display_name": "Python 3.8.9 64-bit",
   "language": "python",
   "name": "python3"
  },
  "language_info": {
   "codemirror_mode": {
    "name": "ipython",
    "version": 3
   },
   "file_extension": ".py",
   "mimetype": "text/x-python",
   "name": "python",
   "nbconvert_exporter": "python",
   "pygments_lexer": "ipython3",
   "version": "3.8.9"
  },
  "orig_nbformat": 4
 },
 "nbformat": 4,
 "nbformat_minor": 2
}
