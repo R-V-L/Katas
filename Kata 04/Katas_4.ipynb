{
 "cells": [
  {
   "cell_type": "markdown",
   "metadata": {},
   "source": [
    "# Transformar cadenas"
   ]
  },
  {
   "cell_type": "code",
   "execution_count": null,
   "metadata": {},
   "outputs": [],
   "source": [
    "text = \"\"\"Interesting facts about the Moon. The Moon is Earth's only satellite. There are several interesting facts about the Moon and how it affects life here on Earth. \n",
    "On average, the Moon moves 4cm away from the Earth every year. This yearly drift is not significant enough to cause immediate effects on Earth. The highest daylight temperature of the Moon is 127 C.\"\"\"\n",
    "\n",
    "# Primero, divide el texto en cada oración para trabajar con su contenido\n",
    "text.split('.')\n",
    "\n",
    "# Ahora, define algunas palabras clave para búsqueda que te ayudarán a determinar si una oración contiene un hecho.\n",
    "palabras_clave = ['average', 'temperature', 'distance']\n",
    "\n",
    "# Crea un bucle para imprimir solo datos sobre la Luna que estén relacionados con las palabras clave definidas anteriormente:\n",
    "for parrafo in text.split('.'):\n",
    "    for palabra in palabras_clave:\n",
    "        if palabra in parrafo:\n",
    "            print(parrafo)\n",
    "\n",
    "# Finalmente, actualiza el bucle (ciclo) para cambiar C a Celsius:\n",
    "for parrafo in text.split('.'):\n",
    "    for palabra in palabras_clave:\n",
    "        if palabra in parrafo:\n",
    "            print(parrafo.replace('C', 'Celsius'))"
   ]
  },
  {
   "cell_type": "markdown",
   "metadata": {},
   "source": [
    "## Formateando Cadenas"
   ]
  },
  {
   "cell_type": "code",
   "execution_count": null,
   "metadata": {},
   "outputs": [],
   "source": [
    "# Datos con los que vas a trabajar\n",
    "name = \"Luna\"\n",
    "gravity = 0.00162\n",
    "planet = \"Tierra\"\n",
    "\n",
    "# Creamos el título\n",
    "titulo = f\"La gravedad en la {name}\".title()\n",
    "\n",
    "# Creamos la plantilla\n",
    "plantilla = f\"\"\"\n",
    "--------------------------------------------------\n",
    "Nombre del planeta: {planet}\n",
    "Gravedad en {name}: {round(gravity * 1000, 2)} m/s^2\n",
    "\"\"\"\n",
    "\n",
    "# Unión de ambas cadenas\n",
    "print(titulo + plantilla)\n",
    "\n",
    "# Cambiar luna y planeta\n",
    "name = \"Marte\"\n",
    "gravity = 0.00143\n",
    "planet = \"Ganimedes\"\n",
    "\n",
    "# Nueva plantilla\n",
    "nuevaPlantilla = \"\"\"\n",
    "La Gravedad En {}\n",
    "--------------------------------------------------\n",
    "Nombre del planeta: {}\n",
    "Gravedad en {}: {} m/s^2\n",
    "\"\"\"\n",
    "\n",
    "print(nuevaPlantilla.format(name, planet, name, round(gravity * 1000, 2)))"
   ]
  }
 ],
 "metadata": {
  "interpreter": {
   "hash": "31f2aee4e71d21fbe5cf8b01ff0e069b9275f58929596ceb00d14d90e3e16cd6"
  },
  "kernelspec": {
   "display_name": "Python 3.8.9 64-bit",
   "language": "python",
   "name": "python3"
  },
  "language_info": {
   "codemirror_mode": {
    "name": "ipython",
    "version": 3
   },
   "file_extension": ".py",
   "mimetype": "text/x-python",
   "name": "python",
   "nbconvert_exporter": "python",
   "pygments_lexer": "ipython3",
   "version": "3.8.9"
  },
  "orig_nbformat": 4
 },
 "nbformat": 4,
 "nbformat_minor": 2
}
